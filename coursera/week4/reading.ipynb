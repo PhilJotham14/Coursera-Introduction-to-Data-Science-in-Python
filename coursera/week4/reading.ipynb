{
 "cells": [
  {
   "cell_type": "markdown",
   "metadata": {},
   "source": [
    "Science Isn't Broken: p-hacking\n",
    "Scientific research has come under attack recently for a lack of replication. Christie Aschwanden, from the political blog FiveThirtyEight, wrote a thought provoking piece about why this is happening.\n",
    "\n",
    "http://fivethirtyeight.com/features/science-isnt-broken/\n",
    "\n",
    "Read the article, and explore the interactive application \"Hack Your Way to Scientific Glory\". As a data scientist, what does this article mean for you, in both how you practice data science, and in how you communicate with the broader public about it?"
   ]
  },
  {
   "cell_type": "markdown",
   "metadata": {},
   "source": [
    "Goodhart's Law (Optional)\n",
    "Listen to the Data Skeptic podcast on Goodhart's law: \n",
    "http://dataskeptic.com/epnotes/goodharts-law.php\n",
    "\n",
    "What is the implication for you as a data scientist?"
   ]
  },
  {
   "cell_type": "markdown",
   "metadata": {},
   "source": [
    "The 5 Graph Algorithms that you should know\n",
    "A nice \n",
    "Medium article\n",
    " from Rahul Agarwal on 5 example algorithms for graph/networks and their application in data science.\n",
    " https://towardsdatascience.com/data-scientists-the-five-graph-algorithms-that-you-should-know-30f454fa5513"
   ]
  }
 ],
 "metadata": {
  "language_info": {
   "name": "python"
  },
  "orig_nbformat": 4
 },
 "nbformat": 4,
 "nbformat_minor": 2
}
